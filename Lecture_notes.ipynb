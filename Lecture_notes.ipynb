{
 "cells": [
  {
   "cell_type": "markdown",
   "id": "48c411fb",
   "metadata": {},
   "source": [
    "# Lecture Notes\n",
    "---\n",
    "\n"
   ]
  },
  {
   "cell_type": "markdown",
   "id": "1aa5c159",
   "metadata": {},
   "source": [
    "**August 29th**\n",
    "\n",
    "Methodology:\n",
    "\n",
    "- identify model\n",
    "- identify cost function\n",
    "- engage in training\n",
    "\n",
    "last time: we chose square footageas a \n",
    "Define a cost function: we use squared error function\n",
    "\n",
    "avg of squar edeviations of the models predictions\n",
    "\n",
    "cost function we are using is just what I would call a chi sqr function. \n",
    "\n",
    "\n",
    "Cost functions should always be a ^2 power for a clear global minima. This is why wea are using the chi sqr function.\n",
    "\n",
    "Gradient Descent: the way we model the minimization of this cost function\n",
    "\n",
    "- chain rule is important here, doing some basic calc examples\n",
    "\n",
    "- simplified model: \n",
    "\n",
    "goal: find w that minimizes the cost function\n",
    "\n",
    "$f_{w}(x) = wx$\n",
    "\n",
    "- initialize w to a random value\n",
    "\n",
    "- repeat a loop untill convergence\n",
    "- any w from -inf to + inf\n",
    "\n",
    "adjust w by: \n",
    "$w  := w - \\alpha \\frac{\\partial J(w)}{\\partial w}$\n",
    "\n",
    "$\\alpha$ is a \"learning rate\", a positive and real number.\n",
    "\n",
    "$J(w) = \\frac{1}{2m} sum i=1 to m (f_{w} -y)^2$\n",
    "\n",
    "$J_1(w) = (wx^1 - y^1)^2$\n",
    "\n",
    "$\\frac{\\partial J_1(w)}{w} = 2x(wx-y))$\n",
    "\n",
    "for a general $J_i$:\n",
    "\n",
    "$\\frac{\\partial J_i(w)}{w} = 2x^i(wx^i-y^i))$\n",
    "\n",
    "$J(w) = \\frac{1}{2m}(J_1 + J_2 + ....)$\n",
    "\n",
    "\n",
    "$\\frac{\\partial J(w)}{\\partial w} = \\frac{1}{2m}(\\frac{\\partial J_1(w)}{\\partial w}  + \\frac{\\partial J_2(w)}{\\partial w} + ..... )$"
   ]
  },
  {
   "cell_type": "markdown",
   "id": "d25c5349",
   "metadata": {},
   "source": [
    "$\\frac{\\partial J(w)}{\\partial (w)} = \\frac{1}{m} \\sum 1 to m (wx^i - y^i)$"
   ]
  },
  {
   "cell_type": "markdown",
   "id": "7866b4e2",
   "metadata": {},
   "source": [
    "initialize gradient descent problem:\n",
    "\n",
    "f_{w,b} = wx + b"
   ]
  },
  {
   "cell_type": "code",
   "execution_count": null,
   "id": "f1ee4730",
   "metadata": {},
   "outputs": [],
   "source": [
    "#I think he's describing something like this...\n",
    "\n",
    "import random\n",
    "#initialize a random w\n",
    "w = random.random()\n",
    "b = random.random()\n",
    "#create a positive learning rate\n",
    "#shouldn't be too small or it won't converge\n",
    "#if a is too large, just jumps between walls of the parabola\n",
    "a = 1e-2\n",
    "x = \n",
    "m = \n",
    "while w .....#give convergence condition\n",
    "#partials give average of deviationsfrom our models\n",
    "    partial_w, partial_b = (1/m)* ( ((w*x)**m) + b - (y**m) )**2\n",
    "   # partial_b = (1/m)* ( ((w*x)**m) + b - (y**m) )**2\n",
    "    w = (1/m)*(w - a*(x*(w*x - b + y)))\n",
    "    b =(1/m)*(b - a*((1)*(w*x - b + y)))"
   ]
  },
  {
   "cell_type": "markdown",
   "id": "dc0e056c",
   "metadata": {},
   "source": [
    "**September 3rd**\n",
    "\n",
    "how do we find optimal paprameters for w,b?\n",
    "\n",
    "- assumed linear realtionship\n",
    "\n",
    "- identified cost function (squared error function)\n",
    "\n",
    "- J is \"one half of the average square deviation\"\n",
    "\n",
    "$\\frac{\\partial J (w)}{\\partial b} = \\frac{1}{m} sum 1 to m (wx^i + b - y ^i)$\n",
    "\n",
    "each of these values are just the error for the ith term. Aka \"residuals\"\n",
    "\n",
    "pseduocode:\n",
    "\n",
    "- initialize w,b to random values\n",
    "\n",
    "-repeat untill convergence condition\n",
    "\n",
    "w = w-alpha partialj/partialw\n",
    "\n",
    "b = b-alpha partialj/[artial b\n",
    "\n",
    "\n",
    "w = w - alpha 1/m (sum (wx^i + b -y^i)x^i\n",
    "\n",
    "b = b-alpha (1/m) (sum wx^i + b - y^i)(1)\n",
    "\n",
    "\n"
   ]
  },
  {
   "cell_type": "code",
   "execution_count": 6,
   "id": "3013785a",
   "metadata": {},
   "outputs": [
    {
     "data": {
      "text/plain": [
       "522"
      ]
     },
     "execution_count": 6,
     "metadata": {},
     "output_type": "execute_result"
    }
   ],
   "source": [
    "random.randrange(-1e3, 1e3)"
   ]
  },
  {
   "cell_type": "code",
   "execution_count": 62,
   "id": "d475ca4c",
   "metadata": {},
   "outputs": [],
   "source": [
    "#Gradient descent\n",
    "\n",
    "import random\n",
    "import numpy as np\n",
    "#initialize a random w\n",
    "minval = -1e3\n",
    "maxval = 1e3\n",
    "w = random.randrange(minval, maxval)\n",
    "b = random.randrange(minval, maxval)\n",
    "xspan = np.linspace(minval, maxval)\n",
    "yspan = np.linspace(minval, maxval)\n",
    "\n",
    "a = 1e-2\n",
    "#Need to figure out what these should be... not right. \n",
    "#x =1 \n",
    "#y = 1\n",
    "\n",
    "ws = []\n",
    "bs = []\n",
    "js = []\n",
    "i = 0\n",
    "convergence = False\n",
    "for xi, x in enumerate(xspan):\n",
    "    for yi, y in enumerate(yspan):\n",
    "        if convergence == False:\n",
    "            i+=1\n",
    "            m = i\n",
    "            wnew = (w - a * (1/m) * (x*(w*(xi) - b + (yi) )))\n",
    "            bnew = (b - a * (1/m) * ((1)*(w*(xi) - b + (yi) )))\n",
    "            j = w*(xi) - b + (yi)\n",
    "            js.append(j)\n",
    "\n",
    "            if abs(wnew-w)<1e-1:\n",
    "                if abs(bnew - b)<1e-1:\n",
    "                    print(f'Convergence in {i} iterations at w = {round(w,1)}, b = {round(b,1)}')\n",
    "                    convergence = True\n",
    "\n",
    "            else:\n",
    "                w = wnew\n",
    "                b = bnew\n",
    "\n",
    "                ws.append(w)\n",
    "                bs.append(b)"
   ]
  },
  {
   "cell_type": "code",
   "execution_count": 63,
   "id": "44713254",
   "metadata": {},
   "outputs": [
    {
     "data": {
      "image/png": "[encoded data removed]",
      "text/plain": [
       "<Figure size 432x288 with 1 Axes>"
      ]
     },
     "metadata": {
      "needs_background": "light"
     },
     "output_type": "display_data"
    }
   ],
   "source": [
    "plt.plot(np.arange(0, len(js)), js, marker = 'x', c = 'k')\n",
    "#plt.xlim(minval, maxval)\n",
    "#plt.ylim(minval, maxval)\n",
    "plt.grid()\n",
    "plt.xlabel('Iterations')\n",
    "plt.ylabel('J')\n",
    "plt.title('Model Efficiency');"
   ]
  },
  {
   "cell_type": "code",
   "execution_count": 68,
   "id": "a5a2f8df",
   "metadata": {},
   "outputs": [
    {
     "data": {
      "image/png": "[encoded data removed]",
      "text/plain": [
       "<Figure size 432x288 with 1 Axes>"
      ]
     },
     "metadata": {
      "needs_background": "light"
     },
     "output_type": "display_data"
    }
   ],
   "source": [
    "plt.plot(ws, bs, marker = 'x', c = 'k')\n",
    "#plt.xlim(minval, maxval)\n",
    "#plt.ylim(minval, maxval)\n",
    "plt.grid()\n",
    "plt.xlabel('w')\n",
    "plt.ylabel('b')\n",
    "plt.title('Model Path');"
   ]
  },
  {
   "cell_type": "markdown",
   "id": "65da5149",
   "metadata": {},
   "source": [
    "hmmm... I'll ask him next class what I'm doing wrong."
   ]
  },
  {
   "cell_type": "markdown",
   "id": "605c856b",
   "metadata": {},
   "source": [
    "Multiple Regression\n",
    "\n",
    "- now linear algebra (My favortie!!!)\n",
    "\n",
    "- letting x, w be vectors that we span rather than \n",
    "\n",
    "- w and b are still initialized at random values\n",
    "\n",
    "- repeat untill convergence\n",
    "\n",
    "- w are \"weights\"?"
   ]
  },
  {
   "cell_type": "markdown",
   "id": "a00cec66",
   "metadata": {},
   "source": [
    "**September 10**\n",
    "\n",
    "\n",
    "Logistic regression\n",
    "\n",
    "values of w and b now that we get z which plugs in to logisitc function, gives value between 0 and 1\n",
    "\n",
    "used for image prediction\n",
    "\n",
    "find w and b that maximize the accuracy\n",
    "\n",
    "finding a seperation boundary that maximizes performance \n",
    "\n",
    "all ml problems:\n",
    "\n",
    "1. pick a form for the model\n",
    "\n",
    "2. pick a cost function. The best cost functions have one minimum\n",
    "\n",
    "3. train the model"
   ]
  },
  {
   "cell_type": "code",
   "execution_count": null,
   "id": "f69c01fc",
   "metadata": {},
   "outputs": [],
   "source": []
  },
  {
   "cell_type": "code",
   "execution_count": null,
   "id": "a8a1d1ae",
   "metadata": {},
   "outputs": [],
   "source": []
  }
 ],
 "metadata": {
  "kernelspec": {
   "display_name": "Python 3",
   "language": "python",
   "name": "python3"
  },
  "language_info": {
   "codemirror_mode": {
    "name": "ipython",
    "version": 3
   },
   "file_extension": ".py",
   "mimetype": "text/x-python",
   "name": "python",
   "nbconvert_exporter": "python",
   "pygments_lexer": "ipython3",
   "version": "3.9.6"
  }
 },
 "nbformat": 4,
 "nbformat_minor": 5
}
